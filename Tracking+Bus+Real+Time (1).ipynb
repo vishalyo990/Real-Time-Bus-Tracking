{
 "cells": [
  {
   "cell_type": "code",
   "execution_count": 4,
   "metadata": {
    "collapsed": true
   },
   "outputs": [],
   "source": [
    "import urllib\n",
    "from xml.etree.ElementTree import parse\n",
    "#Getting the data for all the buses of Route #22\n",
    "u = urllib.urlopen('http://ctabustracker.com/bustime/map/getBusesForRoute.jsp?route=22')"
   ]
  },
  {
   "cell_type": "code",
   "execution_count": 2,
   "metadata": {
    "collapsed": true
   },
   "outputs": [],
   "source": [
    "data = u.read()\n",
    "f = open('rt22.xml', 'wb')\n",
    "f.write(data)\n",
    "f.close()"
   ]
  },
  {
   "cell_type": "code",
   "execution_count": 5,
   "metadata": {},
   "outputs": [],
   "source": [
    "#Travis latitude and longitude.\n",
    "Travis_lat = 41.98062\n",
    "Travis_lon = -87.668452\n",
    "doc = parse('rt22.xml')"
   ]
  },
  {
   "cell_type": "code",
   "execution_count": 7,
   "metadata": {},
   "outputs": [
    {
     "name": "stdout",
     "output_type": "stream",
     "text": [
      "4130 42.0120228754\n",
      "4352 42.0184249878\n",
      "4387 42.018885\n"
     ]
    }
   ],
   "source": [
    "#Parsing the data and finding the ID of the buses the passed to the Travis latitude and longitude.\n",
    "for bus in doc.findall('bus'):\n",
    "    lat = float(bus.findtext('lat'))\n",
    "    if lat>Travis_lat:\n",
    "        direction = bus.findtext(\"d\")\n",
    "        if direction.startswith('North'):\n",
    "            busid = bus.findtext('id')\n",
    "            print busid, lat"
   ]
  },
  {
   "cell_type": "code",
   "execution_count": 8,
   "metadata": {
    "collapsed": true
   },
   "outputs": [],
   "source": [
    "#I got 3 suspect buses with following ID's\n",
    "candidates = ['4130', '4352', '4387']\n"
   ]
  },
  {
   "cell_type": "code",
   "execution_count": 9,
   "metadata": {
    "collapsed": true
   },
   "outputs": [],
   "source": [
    "def distance(lat1, lat2):\n",
    "    return 69*abs(lat1-lat2)"
   ]
  },
  {
   "cell_type": "code",
   "execution_count": null,
   "metadata": {},
   "outputs": [
    {
     "name": "stdout",
     "output_type": "stream",
     "text": [
      "4352 2.6222312915 miles\n",
      "4130 2.52020950195 miles\n",
      "4387 2.640285 miles\n",
      "----------\n",
      "4352 2.64205403699 miles\n",
      "4130 2.5777319089 miles\n",
      "4387 2.640285 miles\n",
      "----------\n",
      "4352 2.62409771884 miles\n",
      "4130 2.5777319089 miles\n",
      "4387 2.640285 miles\n",
      "----------\n",
      "4352 2.62409771884 miles\n",
      "4130 2.6151 miles\n",
      "4387 2.640285 miles\n",
      "----------\n",
      "4352 2.63964308525 miles\n",
      "4130 2.6151 miles\n",
      "4387 2.64276199219 miles\n",
      "----------\n",
      "4352 2.6741562571 miles\n",
      "4130 2.6151 miles\n",
      "4387 2.64276199219 miles\n",
      "----------\n"
     ]
    }
   ],
   "source": [
    "#Functin to monitor these buses.\n",
    "def monitor():\n",
    "    x = urllib.urlopen('http://ctabustracker.com/bustime/map/getBusesForRoute.jsp?route=22')\n",
    "    doc = parse(x)\n",
    "    for bus in doc.findall('bus'):\n",
    "        busid = bus.findtext('id')\n",
    "        if busid in candidates:\n",
    "            lat1 = float(bus.findtext('lat'))\n",
    "            dis = distance(lat1,Travis_lat)\n",
    "            print busid, dis, 'miles'\n",
    "    print '-'*10\n",
    "    \n",
    "import time\n",
    "while True:\n",
    "    monitor()\n",
    "    time.sleep(30)\n",
    " "
   ]
  },
  {
   "cell_type": "code",
   "execution_count": null,
   "metadata": {
    "collapsed": true
   },
   "outputs": [],
   "source": []
  }
 ],
 "metadata": {
  "kernelspec": {
   "display_name": "Python 2",
   "language": "python",
   "name": "python2"
  },
  "language_info": {
   "codemirror_mode": {
    "name": "ipython",
    "version": 2
   },
   "file_extension": ".py",
   "mimetype": "text/x-python",
   "name": "python",
   "nbconvert_exporter": "python",
   "pygments_lexer": "ipython2",
   "version": "2.7.13"
  }
 },
 "nbformat": 4,
 "nbformat_minor": 2
}
